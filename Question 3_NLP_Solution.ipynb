{
 "cells": [
  {
   "cell_type": "code",
   "execution_count": 6,
   "metadata": {},
   "outputs": [
    {
     "name": "stderr",
     "output_type": "stream",
     "text": [
      "[nltk_data] Downloading package punkt to /Users/beverish/nltk_data...\n",
      "[nltk_data]   Unzipping tokenizers/punkt.zip.\n"
     ]
    },
    {
     "data": {
      "text/plain": [
       "True"
      ]
     },
     "execution_count": 6,
     "metadata": {},
     "output_type": "execute_result"
    }
   ],
   "source": [
    "# Import Libraries\n",
    "\n",
    "import pandas as pd\n",
    "import matplotlib.pyplot as plt\n",
    "from nltk.tokenize import word_tokenize\n",
    "import nltk\n",
    "nltk.download('punkt')"
   ]
  },
  {
   "cell_type": "code",
   "execution_count": 12,
   "metadata": {},
   "outputs": [],
   "source": [
    "# Define the text and split into lines\n",
    "text = \"\"\"\n",
    "As a term, data analytics predominantly refers to an assortment of applications, from basic business\n",
    "intelligence (BI), reporting and online analytical processing (OLAP) to various forms of advanced\n",
    "analytics. In that sense, it's similar in nature to business analytics, another umbrella term for\n",
    "approaches to analyzing data -- with the difference that the latter is oriented to business uses, while\n",
    "data analytics has a broader focus. The expansive view of the term isn't universal, though: In some\n",
    "cases, people use data analytics specifically to mean advanced analytics, treating BI as a separate\n",
    "category. Data analytics initiatives can help businesses increase revenues, improve operational\n",
    "efficiency, optimize marketing campaigns and customer service efforts, respond more quickly to\n",
    "emerging market trends and gain a competitive edge over rivals -- all with the ultimate goal of\n",
    "boosting business performance. Depending on the particular application, the data that's analyzed\n",
    "can consist of either historical records or new information that has been processed for real-time\n",
    "analytics uses. In addition, it can come from a mix of internal systems and external data sources. At\n",
    "a high level, data analytics methodologies include exploratory data analysis (EDA), which aims to find\n",
    "patterns and relationships in data, and confirmatory data analysis (CDA), which applies statistical\n",
    "techniques to determine whether hypotheses about a data set are true or false. EDA is often\n",
    "compared to detective work, while CDA is akin to the work of a judge or jury during a court trial -- a\n",
    "distinction first drawn by statistician John W. Tukey in his 1977 book Exploratory Data Analysis. Data\n",
    "analytics can also be separated into quantitative data analysis and qualitative data analysis. The\n",
    "former involves analysis of numerical data with quantifiable variables that can be compared or\n",
    "measured statistically. The qualitative approach is more interpretive -- it focuses on understanding\n",
    "the content of non-numerical data like text, images, audio and video, including common phrases,\n",
    "themes and points of view.\n",
    "\"\"\""
   ]
  },
  {
   "cell_type": "code",
   "execution_count": 3,
   "metadata": {},
   "outputs": [],
   "source": [
    "lines = text.strip().split('\\n')"
   ]
  },
  {
   "cell_type": "code",
   "execution_count": 4,
   "metadata": {},
   "outputs": [],
   "source": [
    "# Initialize lists to store results\n",
    "word_counts = []\n",
    "data_counts = []\n",
    "data_followed_by_analytics = 0\n",
    "total_data_occurrences = 0"
   ]
  },
  {
   "cell_type": "code",
   "execution_count": 7,
   "metadata": {},
   "outputs": [],
   "source": [
    "# Analyze each line\n",
    "for line in lines:\n",
    "    words = word_tokenize(line.lower())  # Tokenize and convert to lower case\n",
    "    unique_words = set(words)  # Get unique words\n",
    "    word_counts.append(len(unique_words))  # Count unique words\n",
    "    data_count = words.count('data')\n",
    "    data_counts.append(data_count)\n",
    "    total_data_occurrences += data_count\n",
    "    \n",
    "    # Check for 'data analytics'\n",
    "    for i in range(len(words) - 1):\n",
    "        if words[i] == 'data' and words[i + 1] == 'analytics':\n",
    "            data_followed_by_analytics += 1"
   ]
  },
  {
   "cell_type": "code",
   "execution_count": 8,
   "metadata": {},
   "outputs": [],
   "source": [
    "# Compute probabilities for data\n",
    "prob_data_in_line = [count / len(line.split()) for count, line in zip(data_counts, lines)]\n"
   ]
  },
  {
   "cell_type": "code",
   "execution_count": 9,
   "metadata": {},
   "outputs": [
    {
     "data": {
      "image/png": "[encoded data removed]",
      "text/plain": [
       "<Figure size 432x288 with 1 Axes>"
      ]
     },
     "metadata": {
      "needs_background": "light"
     },
     "output_type": "display_data"
    }
   ],
   "source": [
    "# Plot distribution of distinct word counts\n",
    "plt.hist(word_counts, bins=len(set(word_counts)))\n",
    "plt.title('Distribution of Unique Word Counts')\n",
    "plt.xlabel('Unique Words')\n",
    "plt.ylabel('Frequency')\n",
    "plt.show()"
   ]
  },
  {
   "cell_type": "code",
   "execution_count": 11,
   "metadata": {},
   "outputs": [
    {
     "name": "stdout",
     "output_type": "stream",
     "text": [
      "Probability of 'data' in each line: [0.06666666666666667, 0.0, 0.0, 0.058823529411764705, 0.058823529411764705, 0.06666666666666667, 0.09090909090909091, 0.0, 0.0, 0.08333333333333333, 0.0, 0.05555555555555555, 0.13333333333333333, 0.15384615384615385, 0.0625, 0.0, 0.125, 0.14285714285714285, 0.07142857142857142, 0.0, 0.07142857142857142, 0.0]\n",
      "Probability of 'analytics' after 'data': 0.2777777777777778\n"
     ]
    }
   ],
   "source": [
    "# Calculate the probability of 'analytics' following 'data'\n",
    "prob_analytics_after_data = data_followed_by_analytics / total_data_occurrences if total_data_occurrences > 0 else 0\n",
    "\n",
    "# Display results\n",
    "print(\"Probability of 'data' in each line:\", prob_data_in_line)\n",
    "print(\"Probability of 'analytics' after 'data':\", prob_analytics_after_data)"
   ]
  },
  {
   "cell_type": "code",
   "execution_count": 17,
   "metadata": {},
   "outputs": [
    {
     "name": "stdout",
     "output_type": "stream",
     "text": [
      "Line 1: Probability of 'data' = 0.067\n",
      "Line 2: Probability of 'data' = 0.000\n",
      "Line 3: Probability of 'data' = 0.000\n",
      "Line 4: Probability of 'data' = 0.059\n",
      "Line 5: Probability of 'data' = 0.059\n",
      "Line 6: Probability of 'data' = 0.067\n",
      "Line 7: Probability of 'data' = 0.091\n",
      "Line 8: Probability of 'data' = 0.000\n",
      "Line 9: Probability of 'data' = 0.000\n",
      "Line 10: Probability of 'data' = 0.083\n",
      "Line 11: Probability of 'data' = 0.000\n",
      "Line 12: Probability of 'data' = 0.056\n",
      "Line 13: Probability of 'data' = 0.133\n",
      "Line 14: Probability of 'data' = 0.154\n",
      "Line 15: Probability of 'data' = 0.062\n",
      "Line 16: Probability of 'data' = 0.000\n",
      "Line 17: Probability of 'data' = 0.125\n",
      "Line 18: Probability of 'data' = 0.143\n",
      "Line 19: Probability of 'data' = 0.071\n",
      "Line 20: Probability of 'data' = 0.000\n",
      "Line 21: Probability of 'data' = 0.071\n",
      "Line 22: Probability of 'data' = 0.000\n",
      "\n",
      "Probability of 'analytics' occurring after 'data': 0.278\n"
     ]
    }
   ],
   "source": [
    "line_labels = ['Line 1', 'Line 2', 'Line 3', 'Line 4','Line 5','Line 6','Line 7',\n",
    "               'Line 8','Line 9', 'Line 10', 'Line 11', 'Line 12', 'Line 13', 'Line 14',\n",
    "               'Line 15', 'Line 16', 'Line 17', 'Line 18', 'Line 19', 'Line 20', 'Line 21', 'Line 22'] \n",
    "\n",
    "prob_data_in_line= [0.06666666666666667, 0.0, 0.0, 0.058823529411764705, 0.058823529411764705, \n",
    "                    0.06666666666666667, 0.09090909090909091, 0.0, 0.0, 0.08333333333333333, \n",
    "                    0.0, 0.05555555555555555, 0.13333333333333333, 0.15384615384615385, 0.0625,\n",
    "                      0.0, 0.125, 0.14285714285714285, 0.07142857142857142, 0.0, 0.07142857142857142, 0.0]\n",
    "\n",
    "for label, prob in zip(line_labels, prob_data_in_line):\n",
    "    print(f\"{label}: Probability of 'data' = {prob:.3f}\")\n",
    "\n",
    "print(\"\\nProbability of 'analytics' occurring after 'data': {:.3f}\".format(prob_analytics_after_data))"
   ]
  },
  {
   "cell_type": "code",
   "execution_count": null,
   "metadata": {},
   "outputs": [],
   "source": []
  }
 ],
 "metadata": {
  "kernelspec": {
   "display_name": "Python 3",
   "language": "python",
   "name": "python3"
  },
  "language_info": {
   "codemirror_mode": {
    "name": "ipython",
    "version": 3
   },
   "file_extension": ".py",
   "mimetype": "text/x-python",
   "name": "python",
   "nbconvert_exporter": "python",
   "pygments_lexer": "ipython3",
   "version": "3.8.5"
  }
 },
 "nbformat": 4,
 "nbformat_minor": 2
}
